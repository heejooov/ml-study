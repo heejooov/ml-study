{
 "cells": [
  {
   "cell_type": "markdown",
   "id": "c9980012",
   "metadata": {},
   "source": [
    "## 과대적합\n",
    "모델이 성능이 최고지에 다다랐다가 감소\n",
    "\n",
    "## 머신러닝의 근본적인 이슈\n",
    "최적화vs일반화\n",
    "최적화\n",
    "가능한 훈련 데이터에서 최고의 성능을 얻으려고 모델을 조정하는 과정\n",
    "일반화\n",
    "훈련된 모델이 이전에 본적 없는 데이터에서 얼마나 잘 수행되는지 의미\n",
    "-->모델을 만드는 목적은 좋은 일반화 성능을 얻는 것이지만 일반화 성능을 제어할 방법은 없고 훈련 데이터를 기반으로 모델을 조정할 수 있다. \n",
    "\n",
    "## 과소적합\n",
    "훈련데이터의 손실이 낮아질수록 테스트 데이터의 손실도 낮아지는 현상이 발생하는 경우\n",
    "네트워크가 훈련 데이터에 있는 관련 특성을 모두 학습하지 못했을 경우\n",
    "\n",
    "### 규제: 과대적합을 피하는 과정\n"
   ]
  },
  {
   "cell_type": "code",
   "execution_count": 2,
   "id": "8abeecce",
   "metadata": {},
   "outputs": [],
   "source": [
    "from keras.datasets import imdb\n",
    "import numpy as np\n",
    "\n",
    "(train_data, train_labels), (test_data, test_labels) = imdb.load_data(num_words=10000)\n",
    "\n",
    "def vectorize_sequences(sequences, dimension=10000):\n",
    "    # 크기가 (len(sequences), dimension))이고 모든 원소가 0인 행렬을 만듭니다\n",
    "    results = np.zeros((len(sequences), dimension))\n",
    "    for i, sequence in enumerate(sequences):\n",
    "        results[i, sequence] = 1.  # results[i]에서 특정 인덱스의 위치를 1로 만듭니다\n",
    "    return results\n",
    "\n",
    "# 훈련 데이터를 벡터로 변환합니다\n",
    "x_train = vectorize_sequences(train_data)\n",
    "# 테스트 데이터를 벡터로 변환합니다\n",
    "x_test = vectorize_sequences(test_data)\n",
    "# 레이블을 벡터로 변환합니다\n",
    "y_train = np.asarray(train_labels).astype('float32')\n",
    "y_test = np.asarray(test_labels).astype('float32')"
   ]
  },
  {
   "cell_type": "markdown",
   "id": "3f64e7e2",
   "metadata": {},
   "source": [
    "##  네트워크 축소\n",
    "\n",
    "과대적합을 막는 가장 단순한 방법 --> 모델의 크기, 즉 모델에 있는 학습 파라미터의 수를 줄이는 것</p>\n",
    "파라미터의 수: 층의 수와 각 층의 유닛의 수에 의해 결정\n",
    "딥러닝에서 모델에 있는 학습 파라미터의 수를 종종 모델의 용량이라고 한다. \n",
    "파라미터가 많은 모델이 기억 용량이 더 많다."
   ]
  },
  {
   "cell_type": "code",
   "execution_count": 3,
   "id": "1154bbbc",
   "metadata": {},
   "outputs": [],
   "source": [
    "from keras import models\n",
    "from keras import layers\n",
    "\n",
    "original_model = models.Sequential()\n",
    "original_model.add(layers.Dense(16, activation='relu', input_shape=(10000,)))\n",
    "original_model.add(layers.Dense(16, activation='relu'))\n",
    "original_model.add(layers.Dense(1, activation='sigmoid'))\n",
    "\n",
    "original_model.compile(optimizer='rmsprop',\n",
    "                       loss='binary_crossentropy',\n",
    "                       metrics=['acc'])"
   ]
  },
  {
   "cell_type": "markdown",
   "id": "a555fae5",
   "metadata": {},
   "source": [
    "더 작은 네트워크 구조로 바꾸어 보자(16-->6)"
   ]
  },
  {
   "cell_type": "code",
   "execution_count": 4,
   "id": "d265a1a8",
   "metadata": {},
   "outputs": [],
   "source": [
    "smaller_model = models.Sequential()\n",
    "smaller_model.add(layers.Dense(6, activation='relu', input_shape=(10000,)))\n",
    "smaller_model.add(layers.Dense(6, activation='relu'))\n",
    "smaller_model.add(layers.Dense(1, activation='sigmoid'))\n",
    "\n",
    "smaller_model.compile(optimizer='rmsprop',\n",
    "                      loss='binary_crossentropy',\n",
    "                      metrics=['acc'])"
   ]
  },
  {
   "cell_type": "code",
   "execution_count": 5,
   "id": "34bfc62d",
   "metadata": {},
   "outputs": [
    {
     "name": "stdout",
     "output_type": "stream",
     "text": [
      "Epoch 1/20\n",
      "49/49 [==============================] - 4s 59ms/step - loss: 0.4436 - acc: 0.8289 - val_loss: 0.3353 - val_acc: 0.8789\n",
      "Epoch 2/20\n",
      "49/49 [==============================] - 1s 31ms/step - loss: 0.2563 - acc: 0.9101 - val_loss: 0.2827 - val_acc: 0.8895\n",
      "Epoch 3/20\n",
      "49/49 [==============================] - 2s 31ms/step - loss: 0.1982 - acc: 0.9294 - val_loss: 0.2939 - val_acc: 0.8804\n",
      "Epoch 4/20\n",
      "49/49 [==============================] - 1s 31ms/step - loss: 0.1674 - acc: 0.9397 - val_loss: 0.2917 - val_acc: 0.8850\n",
      "Epoch 5/20\n",
      "49/49 [==============================] - 2s 31ms/step - loss: 0.1427 - acc: 0.9498 - val_loss: 0.3195 - val_acc: 0.8772\n",
      "Epoch 6/20\n",
      "49/49 [==============================] - 2s 31ms/step - loss: 0.1264 - acc: 0.9571 - val_loss: 0.3310 - val_acc: 0.8760\n",
      "Epoch 7/20\n",
      "49/49 [==============================] - 2s 32ms/step - loss: 0.1108 - acc: 0.9620 - val_loss: 0.3702 - val_acc: 0.8686\n",
      "Epoch 8/20\n",
      "49/49 [==============================] - 2s 31ms/step - loss: 0.0981 - acc: 0.9679 - val_loss: 0.3943 - val_acc: 0.8674\n",
      "Epoch 9/20\n",
      "49/49 [==============================] - 1s 26ms/step - loss: 0.0872 - acc: 0.9716 - val_loss: 0.4142 - val_acc: 0.8652\n",
      "Epoch 10/20\n",
      "49/49 [==============================] - 2s 33ms/step - loss: 0.0783 - acc: 0.9744 - val_loss: 0.4445 - val_acc: 0.8640\n",
      "Epoch 11/20\n",
      "49/49 [==============================] - 2s 31ms/step - loss: 0.0699 - acc: 0.9782 - val_loss: 0.4742 - val_acc: 0.8618\n",
      "Epoch 12/20\n",
      "49/49 [==============================] - 2s 31ms/step - loss: 0.0605 - acc: 0.9814 - val_loss: 0.4999 - val_acc: 0.8584\n",
      "Epoch 13/20\n",
      "49/49 [==============================] - 2s 31ms/step - loss: 0.0533 - acc: 0.9836 - val_loss: 0.5291 - val_acc: 0.8576\n",
      "Epoch 14/20\n",
      "49/49 [==============================] - 1s 29ms/step - loss: 0.0463 - acc: 0.9871 - val_loss: 0.5775 - val_acc: 0.8539\n",
      "Epoch 15/20\n",
      "49/49 [==============================] - 2s 31ms/step - loss: 0.0420 - acc: 0.9873 - val_loss: 0.6014 - val_acc: 0.8546\n",
      "Epoch 16/20\n",
      "49/49 [==============================] - 2s 32ms/step - loss: 0.0329 - acc: 0.9910 - val_loss: 0.6743 - val_acc: 0.8489\n",
      "Epoch 17/20\n",
      "49/49 [==============================] - 1s 31ms/step - loss: 0.0300 - acc: 0.9919 - val_loss: 0.6799 - val_acc: 0.8523\n",
      "Epoch 18/20\n",
      "49/49 [==============================] - 1s 27ms/step - loss: 0.0269 - acc: 0.9928 - val_loss: 0.7295 - val_acc: 0.8492\n",
      "Epoch 19/20\n",
      "49/49 [==============================] - 2s 31ms/step - loss: 0.0237 - acc: 0.9937 - val_loss: 0.7527 - val_acc: 0.8493\n",
      "Epoch 20/20\n",
      "49/49 [==============================] - 2s 31ms/step - loss: 0.0174 - acc: 0.9960 - val_loss: 0.7957 - val_acc: 0.8478\n"
     ]
    }
   ],
   "source": [
    "original_hist = original_model.fit(x_train, y_train,\n",
    "                                   epochs=20,\n",
    "                                   batch_size=512,\n",
    "                                   validation_data=(x_test, y_test))"
   ]
  },
  {
   "cell_type": "code",
   "execution_count": 6,
   "id": "d2004471",
   "metadata": {},
   "outputs": [
    {
     "name": "stdout",
     "output_type": "stream",
     "text": [
      "Epoch 1/20\n",
      "49/49 [==============================] - 6s 118ms/step - loss: 0.5165 - acc: 0.8042 - val_loss: 0.4001 - val_acc: 0.8641\n",
      "Epoch 2/20\n",
      "49/49 [==============================] - 2s 33ms/step - loss: 0.3101 - acc: 0.8992 - val_loss: 0.3071 - val_acc: 0.8859\n",
      "Epoch 3/20\n",
      "49/49 [==============================] - 2s 32ms/step - loss: 0.2324 - acc: 0.9226 - val_loss: 0.2845 - val_acc: 0.8890\n",
      "Epoch 4/20\n",
      "49/49 [==============================] - 2s 32ms/step - loss: 0.1937 - acc: 0.9336 - val_loss: 0.2798 - val_acc: 0.8894\n",
      "Epoch 5/20\n",
      "49/49 [==============================] - 2s 33ms/step - loss: 0.1683 - acc: 0.9417 - val_loss: 0.2945 - val_acc: 0.8829\n",
      "Epoch 6/20\n",
      "49/49 [==============================] - 2s 33ms/step - loss: 0.1497 - acc: 0.9482 - val_loss: 0.3009 - val_acc: 0.8818\n",
      "Epoch 7/20\n",
      "49/49 [==============================] - 2s 32ms/step - loss: 0.1341 - acc: 0.9549 - val_loss: 0.3097 - val_acc: 0.8818\n",
      "Epoch 8/20\n",
      "49/49 [==============================] - 2s 33ms/step - loss: 0.1215 - acc: 0.9596 - val_loss: 0.3350 - val_acc: 0.8746\n",
      "Epoch 9/20\n",
      "49/49 [==============================] - 2s 33ms/step - loss: 0.1106 - acc: 0.9639 - val_loss: 0.3446 - val_acc: 0.8750\n",
      "Epoch 10/20\n",
      "49/49 [==============================] - 2s 32ms/step - loss: 0.1007 - acc: 0.9670 - val_loss: 0.3702 - val_acc: 0.8720\n",
      "Epoch 11/20\n",
      "49/49 [==============================] - 2s 33ms/step - loss: 0.0929 - acc: 0.9708 - val_loss: 0.3833 - val_acc: 0.8699\n",
      "Epoch 12/20\n",
      "49/49 [==============================] - 2s 32ms/step - loss: 0.0838 - acc: 0.9742 - val_loss: 0.4041 - val_acc: 0.8684\n",
      "Epoch 13/20\n",
      "49/49 [==============================] - 2s 33ms/step - loss: 0.0767 - acc: 0.9767 - val_loss: 0.4274 - val_acc: 0.8650\n",
      "Epoch 14/20\n",
      "49/49 [==============================] - 2s 32ms/step - loss: 0.0707 - acc: 0.9789 - val_loss: 0.4613 - val_acc: 0.8606\n",
      "Epoch 15/20\n",
      "49/49 [==============================] - 2s 33ms/step - loss: 0.0639 - acc: 0.9808 - val_loss: 0.4737 - val_acc: 0.8624\n",
      "Epoch 16/20\n",
      "49/49 [==============================] - 2s 32ms/step - loss: 0.0586 - acc: 0.9829 - val_loss: 0.4977 - val_acc: 0.8614\n",
      "Epoch 17/20\n",
      "49/49 [==============================] - 2s 33ms/step - loss: 0.0524 - acc: 0.9852 - val_loss: 0.5248 - val_acc: 0.8576\n",
      "Epoch 18/20\n",
      "49/49 [==============================] - 2s 33ms/step - loss: 0.0486 - acc: 0.9867 - val_loss: 0.5501 - val_acc: 0.8563\n",
      "Epoch 19/20\n",
      "49/49 [==============================] - 2s 33ms/step - loss: 0.0434 - acc: 0.9888 - val_loss: 0.5835 - val_acc: 0.8558\n",
      "Epoch 20/20\n",
      "49/49 [==============================] - 2s 32ms/step - loss: 0.0391 - acc: 0.9897 - val_loss: 0.6120 - val_acc: 0.8521\n"
     ]
    }
   ],
   "source": [
    "smaller_model_hist = smaller_model.fit(x_train, y_train,\n",
    "                                       epochs=20,\n",
    "                                       batch_size=512,\n",
    "                                       validation_data=(x_test, y_test))"
   ]
  },
  {
   "cell_type": "code",
   "execution_count": 7,
   "id": "68d9cd3c",
   "metadata": {},
   "outputs": [],
   "source": [
    "epochs = range(1, 21)\n",
    "original_val_loss = original_hist.history['val_loss']\n",
    "smaller_model_val_loss = smaller_model_hist.history['val_loss']"
   ]
  },
  {
   "cell_type": "code",
   "execution_count": 8,
   "id": "4e2e80b4",
   "metadata": {},
   "outputs": [],
   "source": [
    "import matplotlib.pyplot as plt"
   ]
  },
  {
   "cell_type": "code",
   "execution_count": 9,
   "id": "0a350a44",
   "metadata": {},
   "outputs": [
    {
     "data": {
      "image/png": "[encoded data removed]",
      "text/plain": [
       "<Figure size 432x288 with 1 Axes>"
      ]
     },
     "metadata": {
      "needs_background": "light"
     },
     "output_type": "display_data"
    }
   ],
   "source": [
    "# ‘b+’는 파란색 덧셈 기호을 의미합니다\n",
    "plt.plot(epochs, original_val_loss, 'b+', label='Original model')\n",
    "# ‘bo’는 파란색 점을 의미합니다\n",
    "plt.plot(epochs, smaller_model_val_loss, 'bo', label='Smaller model')\n",
    "plt.xlabel('Epochs')\n",
    "plt.ylabel('Validation loss')\n",
    "plt.legend()\n",
    "\n",
    "plt.show()"
   ]
  },
  {
   "cell_type": "markdown",
   "id": "5f1ee648",
   "metadata": {},
   "source": [
    "작은 네트워크가 기본 네트워크보다 더 나중에 과대적합되기 시작\n",
    "\n",
    "훨씬 더 많은 용량을 가진 네트워크를 비교해보자"
   ]
  },
  {
   "cell_type": "code",
   "execution_count": 10,
   "id": "84883320",
   "metadata": {},
   "outputs": [],
   "source": [
    "bigger_model = models.Sequential()\n",
    "bigger_model.add(layers.Dense(1024, activation='relu', input_shape=(10000,)))\n",
    "bigger_model.add(layers.Dense(1024, activation='relu'))\n",
    "bigger_model.add(layers.Dense(1, activation='sigmoid'))\n",
    "\n",
    "bigger_model.compile(optimizer='rmsprop',\n",
    "                     loss='binary_crossentropy',\n",
    "                     metrics=['acc'])"
   ]
  },
  {
   "cell_type": "code",
   "execution_count": 11,
   "id": "1cabb27e",
   "metadata": {},
   "outputs": [
    {
     "name": "stdout",
     "output_type": "stream",
     "text": [
      "Epoch 1/20\n",
      "49/49 [==============================] - 25s 486ms/step - loss: 0.5131 - acc: 0.7924 - val_loss: 0.3323 - val_acc: 0.8548\n",
      "Epoch 2/20\n",
      "49/49 [==============================] - 21s 439ms/step - loss: 0.2249 - acc: 0.9103 - val_loss: 0.3100 - val_acc: 0.8738\n",
      "Epoch 3/20\n",
      "49/49 [==============================] - 20s 405ms/step - loss: 0.1241 - acc: 0.9565 - val_loss: 0.3407 - val_acc: 0.8870\n",
      "Epoch 4/20\n",
      "49/49 [==============================] - 20s 409ms/step - loss: 0.0789 - acc: 0.9834 - val_loss: 0.4174 - val_acc: 0.8800\n",
      "Epoch 5/20\n",
      "49/49 [==============================] - 20s 412ms/step - loss: 0.0486 - acc: 0.9923 - val_loss: 2.1331 - val_acc: 0.6640\n",
      "Epoch 6/20\n",
      "49/49 [==============================] - 20s 410ms/step - loss: 0.0150 - acc: 0.9965 - val_loss: 0.6423 - val_acc: 0.8832\n",
      "Epoch 7/20\n",
      "49/49 [==============================] - 22s 449ms/step - loss: 7.1240e-05 - acc: 1.0000 - val_loss: 0.9742 - val_acc: 0.8659\n",
      "Epoch 8/20\n",
      "49/49 [==============================] - 23s 476ms/step - loss: 1.5230e-05 - acc: 1.0000 - val_loss: 0.9439 - val_acc: 0.8836\n",
      "Epoch 9/20\n",
      "49/49 [==============================] - 24s 486ms/step - loss: 6.2044e-07 - acc: 1.0000 - val_loss: 1.0846 - val_acc: 0.8837\n",
      "Epoch 10/20\n",
      "49/49 [==============================] - 24s 493ms/step - loss: 1.0191e-07 - acc: 1.0000 - val_loss: 1.2208 - val_acc: 0.8836\n",
      "Epoch 11/20\n",
      "49/49 [==============================] - 24s 491ms/step - loss: 2.8696e-08 - acc: 1.0000 - val_loss: 1.2931 - val_acc: 0.8840\n",
      "Epoch 12/20\n",
      "49/49 [==============================] - 24s 493ms/step - loss: 1.4076e-08 - acc: 1.0000 - val_loss: 1.3330 - val_acc: 0.8838\n",
      "Epoch 13/20\n",
      "49/49 [==============================] - 24s 485ms/step - loss: 9.2655e-09 - acc: 1.0000 - val_loss: 1.3607 - val_acc: 0.8838\n",
      "Epoch 14/20\n",
      "49/49 [==============================] - 24s 491ms/step - loss: 6.9505e-09 - acc: 1.0000 - val_loss: 1.3797 - val_acc: 0.8836\n",
      "Epoch 15/20\n",
      "49/49 [==============================] - 24s 491ms/step - loss: 5.5837e-09 - acc: 1.0000 - val_loss: 1.3936 - val_acc: 0.8838\n",
      "Epoch 16/20\n",
      "49/49 [==============================] - 24s 493ms/step - loss: 4.6645e-09 - acc: 1.0000 - val_loss: 1.4068 - val_acc: 0.8837\n",
      "Epoch 17/20\n",
      "49/49 [==============================] - 24s 494ms/step - loss: 4.0316e-09 - acc: 1.0000 - val_loss: 1.4170 - val_acc: 0.8836\n",
      "Epoch 18/20\n",
      "49/49 [==============================] - 24s 484ms/step - loss: 3.5435e-09 - acc: 1.0000 - val_loss: 1.4262 - val_acc: 0.8836\n",
      "Epoch 19/20\n",
      "49/49 [==============================] - 24s 493ms/step - loss: 3.1720e-09 - acc: 1.0000 - val_loss: 1.4350 - val_acc: 0.8834\n",
      "Epoch 20/20\n",
      "49/49 [==============================] - 24s 496ms/step - loss: 2.8811e-09 - acc: 1.0000 - val_loss: 1.4424 - val_acc: 0.8834\n"
     ]
    }
   ],
   "source": [
    "bigger_model_hist = bigger_model.fit(x_train, y_train,\n",
    "                                     epochs=20,\n",
    "                                     batch_size=512,\n",
    "                                     validation_data=(x_test, y_test))"
   ]
  },
  {
   "cell_type": "code",
   "execution_count": 12,
   "id": "cce67097",
   "metadata": {},
   "outputs": [
    {
     "data": {
      "image/png": "[encoded data removed]",
      "text/plain": [
       "<Figure size 432x288 with 1 Axes>"
      ]
     },
     "metadata": {
      "needs_background": "light"
     },
     "output_type": "display_data"
    }
   ],
   "source": [
    "bigger_model_val_loss = bigger_model_hist.history['val_loss']\n",
    "\n",
    "plt.plot(epochs, original_val_loss, 'b+', label='Original model')\n",
    "plt.plot(epochs, bigger_model_val_loss, 'bo', label='Bigger model')\n",
    "plt.xlabel('Epochs')\n",
    "plt.ylabel('Validation loss')\n",
    "plt.legend()\n",
    "\n",
    "plt.show()"
   ]
  },
  {
   "cell_type": "markdown",
   "id": "26a6d9aa",
   "metadata": {},
   "source": [
    "용량이 큰 네트워크는 첫번째 에포크 이후 거의 바로 과대적합이 시작 --> 검증 손실도 또한 매우 불안정"
   ]
  },
  {
   "cell_type": "code",
   "execution_count": 13,
   "id": "a4953f63",
   "metadata": {},
   "outputs": [
    {
     "data": {
      "image/png": "[encoded data removed]",
      "text/plain": [
       "<Figure size 432x288 with 1 Axes>"
      ]
     },
     "metadata": {
      "needs_background": "light"
     },
     "output_type": "display_data"
    }
   ],
   "source": [
    "original_train_loss = original_hist.history['loss']\n",
    "bigger_model_train_loss = bigger_model_hist.history['loss']\n",
    "\n",
    "plt.plot(epochs, original_train_loss, 'b+', label='Original model')\n",
    "plt.plot(epochs, bigger_model_train_loss, 'bo', label='Bigger model')\n",
    "plt.xlabel('Epochs')\n",
    "plt.ylabel('Training loss')\n",
    "plt.legend()\n",
    "\n",
    "plt.show()"
   ]
  },
  {
   "cell_type": "markdown",
   "id": "315d0357",
   "metadata": {},
   "source": [
    "용량이 큰 네트워크는 훈련 손실이 매우 빠르게 0에 가까워진다. 용량이 많은 네트워크일수록 더 빠르게 훈련 데이터를 모델링할 수 있다.그러나 더욱 과대적합에는 민감해진다. \n",
    "\n",
    "## 가중치 규제 추가\n",
    "\n",
    "### 오캄의 면도날 이론: 어떤 것에 대한 두 가지의 설명이 있다면 더 적은 가정을 필요하는 간단한 설명이 옳을 것이라는 이론\n",
    "\n",
    "--> 신경망 학습 모델에도 적용: 어떤 훈련 데이터와 네트워크 구조가 주어졌을 때 데이터를 설명할 수 있는 가중치 값의 집합은 여래개입니다. 간단한 모델이 복잡한 모델보다 덜 과대적합될 가능성이 높다. \n",
    "\n",
    "여기서 간단한 모델이란 파라미터 값의 분포의 엔트로피가 작은모델이다. 그러므로 과대적합을 완화시키는 일반적인 방법은 네트워크의 복잡도에 제한을 두어 가중치가 작은 값을 가지도록 강제화하는 것 --> 가중치 값의 분포는 균일해진다. \n",
    "-->이를 가중치 규제라고 한다. \n",
    "- L1 규제: 가중치의 절대값에 비례하는 비용을 추가 \n",
    "- L2 규제: 가중치의 제곱에 비례하는 비용을 추가 (=가중치 감쇠)\n",
    "\n",
    ">L2 가중치 규제를 추가한 예제(영화리뷰 분류)"
   ]
  },
  {
   "cell_type": "code",
   "execution_count": 14,
   "id": "2029e5d5",
   "metadata": {},
   "outputs": [],
   "source": [
    "from keras import regularizers\n",
    "\n",
    "l2_model = models.Sequential()\n",
    "l2_model.add(layers.Dense(16, kernel_regularizer=regularizers.l2(0.001),\n",
    "                          activation='relu', input_shape=(10000,)))\n",
    "l2_model.add(layers.Dense(16, kernel_regularizer=regularizers.l2(0.001),\n",
    "                          activation='relu'))\n",
    "l2_model.add(layers.Dense(1, activation='sigmoid'))"
   ]
  },
  {
   "cell_type": "code",
   "execution_count": 15,
   "id": "d6737af9",
   "metadata": {},
   "outputs": [],
   "source": [
    "l2_model.compile(optimizer='rmsprop',\n",
    "                 loss='binary_crossentropy',\n",
    "                 metrics=['acc'])"
   ]
  },
  {
   "cell_type": "markdown",
   "id": "8fdb09b3",
   "metadata": {},
   "source": [
    "l2(0.001): 가중치 행렬의 모든 원소를  제곱하고 0.001을 곱하여 네트워크의 전체 손실에 더해진다. "
   ]
  },
  {
   "cell_type": "code",
   "execution_count": 16,
   "id": "1aa14944",
   "metadata": {},
   "outputs": [
    {
     "name": "stdout",
     "output_type": "stream",
     "text": [
      "Epoch 1/20\n",
      "49/49 [==============================] - 5s 87ms/step - loss: 0.4946 - acc: 0.8216 - val_loss: 0.3758 - val_acc: 0.8832\n",
      "Epoch 2/20\n",
      "49/49 [==============================] - 2s 32ms/step - loss: 0.3102 - acc: 0.9082 - val_loss: 0.3482 - val_acc: 0.8764\n",
      "Epoch 3/20\n",
      "49/49 [==============================] - 2s 34ms/step - loss: 0.2643 - acc: 0.9229 - val_loss: 0.3301 - val_acc: 0.8863\n",
      "Epoch 4/20\n",
      "49/49 [==============================] - 2s 33ms/step - loss: 0.2439 - acc: 0.9299 - val_loss: 0.3334 - val_acc: 0.8869\n",
      "Epoch 5/20\n",
      "49/49 [==============================] - 2s 32ms/step - loss: 0.2318 - acc: 0.9348 - val_loss: 0.3676 - val_acc: 0.8722\n",
      "Epoch 6/20\n",
      "49/49 [==============================] - 2s 32ms/step - loss: 0.2241 - acc: 0.9372 - val_loss: 0.3538 - val_acc: 0.8796\n",
      "Epoch 7/20\n",
      "49/49 [==============================] - 2s 32ms/step - loss: 0.2167 - acc: 0.9410 - val_loss: 0.3713 - val_acc: 0.8756\n",
      "Epoch 8/20\n",
      "49/49 [==============================] - 2s 33ms/step - loss: 0.2125 - acc: 0.9425 - val_loss: 0.3675 - val_acc: 0.8769\n",
      "Epoch 9/20\n",
      "49/49 [==============================] - 2s 32ms/step - loss: 0.2083 - acc: 0.9429 - val_loss: 0.4401 - val_acc: 0.8580\n",
      "Epoch 10/20\n",
      "49/49 [==============================] - 1s 28ms/step - loss: 0.2026 - acc: 0.9456 - val_loss: 0.3769 - val_acc: 0.8743\n",
      "Epoch 11/20\n",
      "49/49 [==============================] - 2s 32ms/step - loss: 0.1968 - acc: 0.9483 - val_loss: 0.4031 - val_acc: 0.8696\n",
      "Epoch 12/20\n",
      "49/49 [==============================] - 2s 32ms/step - loss: 0.1943 - acc: 0.9494 - val_loss: 0.3892 - val_acc: 0.8726\n",
      "Epoch 13/20\n",
      "49/49 [==============================] - 2s 32ms/step - loss: 0.1915 - acc: 0.9496 - val_loss: 0.4099 - val_acc: 0.8696\n",
      "Epoch 14/20\n",
      "49/49 [==============================] - 1s 29ms/step - loss: 0.1891 - acc: 0.9503 - val_loss: 0.3996 - val_acc: 0.8725\n",
      "Epoch 15/20\n",
      "49/49 [==============================] - 2s 33ms/step - loss: 0.1872 - acc: 0.9510 - val_loss: 0.4159 - val_acc: 0.8678\n",
      "Epoch 16/20\n",
      "49/49 [==============================] - 2s 32ms/step - loss: 0.1839 - acc: 0.9516 - val_loss: 0.4128 - val_acc: 0.8702\n",
      "Epoch 17/20\n",
      "49/49 [==============================] - 2s 32ms/step - loss: 0.1769 - acc: 0.9553 - val_loss: 0.4271 - val_acc: 0.8684\n",
      "Epoch 18/20\n",
      "49/49 [==============================] - 2s 36ms/step - loss: 0.1818 - acc: 0.9543 - val_loss: 0.4238 - val_acc: 0.8695\n",
      "Epoch 19/20\n",
      "49/49 [==============================] - 2s 36ms/step - loss: 0.1710 - acc: 0.9581 - val_loss: 0.4278 - val_acc: 0.8698\n",
      "Epoch 20/20\n",
      "49/49 [==============================] - 2s 32ms/step - loss: 0.1729 - acc: 0.9572 - val_loss: 0.4738 - val_acc: 0.8552\n"
     ]
    }
   ],
   "source": [
    "l2_model_hist = l2_model.fit(x_train, y_train,\n",
    "                             epochs=20,\n",
    "                             batch_size=512,\n",
    "                             validation_data=(x_test, y_test))"
   ]
  },
  {
   "cell_type": "code",
   "execution_count": 17,
   "id": "14a39218",
   "metadata": {},
   "outputs": [
    {
     "data": {
      "image/png": "[encoded data removed]",
      "text/plain": [
       "<Figure size 432x288 with 1 Axes>"
      ]
     },
     "metadata": {
      "needs_background": "light"
     },
     "output_type": "display_data"
    }
   ],
   "source": [
    "l2_model_val_loss = l2_model_hist.history['val_loss']\n",
    "\n",
    "plt.plot(epochs, original_val_loss, 'b+', label='Original model')\n",
    "plt.plot(epochs, l2_model_val_loss, 'bo', label='L2-regularized model')\n",
    "plt.xlabel('Epochs')\n",
    "plt.ylabel('Validation loss')\n",
    "plt.legend()\n",
    "\n",
    "plt.show()"
   ]
  },
  {
   "cell_type": "markdown",
   "id": "b9fca425",
   "metadata": {},
   "source": [
    "## l1(0.0001) 모델과 비교"
   ]
  },
  {
   "cell_type": "code",
   "execution_count": 18,
   "id": "feab8878",
   "metadata": {},
   "outputs": [],
   "source": [
    "l1_model = models.Sequential()\n",
    "l1_model.add(layers.Dense(16, kernel_regularizer=regularizers.l1(0.0001),\n",
    "                          activation='relu', input_shape=(10000,)))\n",
    "l1_model.add(layers.Dense(16, kernel_regularizer=regularizers.l1(0.0001),\n",
    "                          activation='relu'))\n",
    "l1_model.add(layers.Dense(1, activation='sigmoid'))"
   ]
  },
  {
   "cell_type": "code",
   "execution_count": 19,
   "id": "3ee681e9",
   "metadata": {},
   "outputs": [],
   "source": [
    "l1_model.compile(optimizer='rmsprop',\n",
    "                 loss='binary_crossentropy',\n",
    "                 metrics=['acc'])"
   ]
  },
  {
   "cell_type": "code",
   "execution_count": null,
   "id": "1cfb9d9e",
   "metadata": {},
   "outputs": [
    {
     "name": "stdout",
     "output_type": "stream",
     "text": [
      "Epoch 1/20\n",
      "48/49 [============================>.] - ETA: 0s - loss: 0.5879 - acc: 0.8026"
     ]
    }
   ],
   "source": [
    "l1_model_hist = l1_model.fit(x_train, y_train,\n",
    "                             epochs=20,\n",
    "                             batch_size=512,\n",
    "                             validation_data=(x_test, y_test))"
   ]
  },
  {
   "cell_type": "code",
   "execution_count": null,
   "id": "2a4cc68b",
   "metadata": {},
   "outputs": [],
   "source": [
    "l1_model_val_loss = l1_model_hist.history['val_loss']\n",
    "\n",
    "plt.plot(epochs, original_val_loss, 'b+', label='Original model')\n",
    "plt.plot(epochs, l1_model_val_loss, 'bo', label='L1-regularized model')\n",
    "plt.xlabel('Epochs')\n",
    "plt.ylabel('Validation loss')\n",
    "plt.legend()\n",
    "\n",
    "plt.show()"
   ]
  },
  {
   "cell_type": "markdown",
   "id": "792ea6c4",
   "metadata": {},
   "source": [
    "## l1(0.0001) l2(0.0001)모델 비교"
   ]
  },
  {
   "cell_type": "code",
   "execution_count": null,
   "id": "4a4b0429",
   "metadata": {},
   "outputs": [],
   "source": [
    "l1l2_model = models.Sequential()\n",
    "l1l2_model.add(layers.Dense(16, kernel_regularizer=regularizers.l1_l2(l1=0.0001, l2=0.0001),\n",
    "                            activation='relu', input_shape=(10000,)))\n",
    "l1l2_model.add(layers.Dense(16, kernel_regularizer=regularizers.l1_l2(l1=0.0001, l2=0.0001),\n",
    "                            activation='relu'))\n",
    "l1l2_model.add(layers.Dense(1, activation='sigmoid'))"
   ]
  },
  {
   "cell_type": "code",
   "execution_count": null,
   "id": "f3b0ff40",
   "metadata": {},
   "outputs": [],
   "source": [
    "l1l2_model.compile(optimizer='rmsprop',\n",
    "                   loss='binary_crossentropy',\n",
    "                   metrics=['acc'])"
   ]
  },
  {
   "cell_type": "code",
   "execution_count": null,
   "id": "17526817",
   "metadata": {},
   "outputs": [],
   "source": [
    "l1l2_model_hist = l1l2_model.fit(x_train, y_train,\n",
    "                                 epochs=20,\n",
    "                                 batch_size=512,\n",
    "                                 validation_data=(x_test, y_test))"
   ]
  },
  {
   "cell_type": "code",
   "execution_count": null,
   "id": "c0d31b89",
   "metadata": {},
   "outputs": [],
   "source": [
    "l1l2_model_val_loss = l1l2_model_hist.history['val_loss']\n",
    "\n",
    "plt.plot(epochs, original_val_loss, 'b+', label='Original model')\n",
    "plt.plot(epochs, l1l2_model_val_loss, 'bo', label='L1,L2-regularized model')\n",
    "plt.xlabel('Epochs')\n",
    "plt.ylabel('Validation loss')\n",
    "plt.legend()\n",
    "\n",
    "plt.show()"
   ]
  },
  {
   "cell_type": "markdown",
   "id": "88fdb326",
   "metadata": {},
   "source": [
    "## 드롭아웃 추가\n",
    "신경망을 위해 사용되는 규제 기법 중 가장 효과적이고 널리 사용되는 방법 중 하나\n",
    "네트워크 층에 드롭아웃을 적용하면 훈련하는 동안 무작위로 층을 일부 출력 특성을 제외\n",
    "\n",
    "테스트 단계에서는 어떤 유닛도 드롭아웃되지 않는다. 대신에 층의 출력을 드롭아웃 비율에 비례하여 줄여준다. 훈련할 때보다 더 많은 유닛이 활성화되기 때문\n",
    "\n",
    "### 신경망에서 과대적합을 방지하기 위해 가장 널리 사용하는 방법\n",
    "- 훈련 데이터를 더 모은다. \n",
    "- 네트워크 용량을 감소시킨다. \n",
    "- 가중치 규제를 추가한다.\n",
    "- 드롭아웃을 추가한다. "
   ]
  }
 ],
 "metadata": {
  "kernelspec": {
   "display_name": "Python 3",
   "language": "python",
   "name": "python3"
  },
  "language_info": {
   "codemirror_mode": {
    "name": "ipython",
    "version": 3
   },
   "file_extension": ".py",
   "mimetype": "text/x-python",
   "name": "python",
   "nbconvert_exporter": "python",
   "pygments_lexer": "ipython3",
   "version": "3.8.8"
  }
 },
 "nbformat": 4,
 "nbformat_minor": 5
}
