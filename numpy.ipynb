{
 "cells": [
  {
   "cell_type": "code",
   "execution_count": 6,
   "id": "bdee6702",
   "metadata": {},
   "outputs": [
    {
     "data": {
      "text/plain": [
       "array([[1, 2, 3],\n",
       "       [4, 5, 6],\n",
       "       [7, 8, 9]])"
      ]
     },
     "execution_count": 6,
     "metadata": {},
     "output_type": "execute_result"
    }
   ],
   "source": [
    "import numpy as np\n",
    "\n",
    "np.array([1,4,2,5,3])\n",
    "#데이터타입 지정\n",
    "np.array([1,2,3,4],dtype=np.float)\n",
    "#list compreshension\n",
    "np.array([range(i,i+3) for i in [1,4,7]])"
   ]
  },
  {
   "cell_type": "code",
   "execution_count": 12,
   "id": "e394d8e6",
   "metadata": {},
   "outputs": [
    {
     "data": {
      "text/plain": [
       "array([1, 2, 3, 4, 5, 6])"
      ]
     },
     "execution_count": 12,
     "metadata": {},
     "output_type": "execute_result"
    }
   ],
   "source": [
    "np.zeros(10)#0으로 채우기\n",
    "np.ones((3, 5))#1로 채우기\n",
    "np.full((2,3),5)#5로 채우기\n",
    "\n",
    "#배열 생성\n",
    "np.arange(0,10,2)#0,2,4,6,8\n",
    "np.linspace(0, 100, 5, dtype=int)#0,25,50,75,100\n",
    "\n",
    "#난수\n",
    "np.random.random((3,3))#0~1 3행3열\n",
    "np.random.randint(0,10,(3,3))#0~10 3행3열\n",
    "np.random.normal(0,1,(3,3))#정규분포 평균 0, 표준 편차 1, 3행3열\n",
    "\n",
    "np.random.seed(0)#seed값을 주어 재현성 문제 해결\n",
    "\n",
    "arr1=np.random.randint(10,size=6)#0~10\n",
    "arr2 = np.random.randint(10, size=(2, 3))\n",
    "#ndim 차원정보 shape행/열,원소 구조의정보 size 원소의 개수  dtype 데이터 타입\n",
    "\n",
    "\n",
    "#numpy 배열 객체의 인덱싱\n",
    "#인덱싱: 단일 원소에 접근하는 방법\n",
    "arr1[0]\n",
    "arr1[-6]#맨 마지막 데이터: -1\n",
    "arr2[0,0]#0행 0열 데이터\n",
    "#인덱싱을 활용해 새로운 값 저장\n",
    "\n",
    "#Numpy 배열 객체의 슬라이싱-->부분객체\n",
    "arr1[0:5:1]#0,1,2,3,4\n",
    "arr1[:5:1]#0,1,2,3,4\n",
    "arr1[:5:]#0,1,2,3,4\n",
    "\n",
    "#Numpy 배열 객체 연결\n",
    "list1 = [1, 2, 3]\n",
    "list2 = [4, 5, 6]\n",
    "np.concatenate([list1, list2])\n",
    "\n",
    "\n",
    "arr1 = np.concatenate([list1, list2], axis=0)\n",
    "arr1\n",
    "#수평적\n",
    "np.vstack([arr2, arr2])\n",
    "#수직적\n",
    "np.hstack([arr2, arr2])"
   ]
  },
  {
   "cell_type": "code",
   "execution_count": 13,
   "id": "11ed11f8",
   "metadata": {},
   "outputs": [
    {
     "data": {
      "text/plain": [
       "12"
      ]
     },
     "execution_count": 13,
     "metadata": {},
     "output_type": "execute_result"
    }
   ],
   "source": [
    "#Numpy 배열 객체의 내장 함수 사용\n",
    "np.random.seed(0)\n",
    "\n",
    "arr2 = np.random.randint(1, 10, (3, 4))\n",
    "arr2\n",
    "\n",
    "#전체값의 합\n",
    "np.sum(arr2), arr2.sum()\n",
    "#세로 방향의 합\n",
    "np.sum(arr2, axis=0), arr2.sum(axis=0)\n",
    "#가로 방향의 합\n",
    "np.sum(arr2, axis=1), arr2.sum(axis=1)\n",
    "#세로 방향의 최대값\n",
    "np.min(arr2, axis=0), np.max(arr2, axis=0)\n",
    "#세로 방향의 최소값\n",
    "arr2.min(axis=0), arr2.max(axis=0)\n",
    "#가로 방향의 최대값\n",
    "np.min(arr2, axis=1), np.max(arr2, axis=1)\n",
    "arr2.min(axis=1), arr2.max(axis=1)\n",
    "\n",
    "\n",
    "#브로드캐스팅\n",
    "#행열 구조를 동일하게 맞춰줌\n",
    "np.random.seed(0)\n",
    "X = np.random.random((10, 3))\n",
    "X\n",
    "Xmean = X.mean(axis=0)#1*3\n",
    "Xmean\n",
    "#동일한 구조로 복제한 후 계산\n",
    "Xcentered = X - Xmean#10*3-1*3\n",
    "Xcentered\n",
    "\n",
    "#Numpy bool배열과 마스킹 연산\n",
    "np.random.seed(0)\n",
    "\n",
    "X = np.random.randint(1, 10, size=(3, 4))\n",
    "X\n",
    "(X > 5) & (X < 8)#3행4열 bool객체로\n",
    "np.sum((X > 5) & (X < 8))\n",
    "np.sum((X > 5) | (X < 8))\n",
    "np.sum((X > 5) & (X < 8), axis=0)\n",
    "np.sum((X > 5) & (X < 8), axis=1)\n",
    "#어떤 조건을 만족하는 지 확인\n",
    "X[(X > 5) & (X < 8)]\n",
    "\n",
    "#팬시 인덱싱: 인덱스를 담고 잇는 배열\n",
    "X = np.arange(12).reshape((3, 4))\n",
    "X\n",
    "#인덱스 배열에 만족하는 값을 가져온다 \n",
    "row = np.array([0, 1, 2])\n",
    "col = np.array([1, 2, 3])\n",
    "\n",
    "X[row]\n",
    "X[:, col]\n",
    "X[row, col]\n",
    "#구조를 변환해도 동일한 결과를내는 팬시 인덱싱\n",
    "X[row.reshape(-1, 1), col]\n",
    "\n",
    "\n",
    "np.random.seed(0)\n",
    "\n",
    "x = np.array(np.random.randint(10, size=5))\n",
    "x\n",
    "#정렬\n",
    "np.sort(x)\n",
    "\n"
   ]
  }
 ],
 "metadata": {
  "kernelspec": {
   "display_name": "Python 3",
   "language": "python",
   "name": "python3"
  },
  "language_info": {
   "codemirror_mode": {
    "name": "ipython",
    "version": 3
   },
   "file_extension": ".py",
   "mimetype": "text/x-python",
   "name": "python",
   "nbconvert_exporter": "python",
   "pygments_lexer": "ipython3",
   "version": "3.8.8"
  }
 },
 "nbformat": 4,
 "nbformat_minor": 5
}
