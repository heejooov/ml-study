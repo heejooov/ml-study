{
 "cells": [
  {
   "cell_type": "code",
   "execution_count": 1,
   "id": "fe358e35",
   "metadata": {},
   "outputs": [
    {
     "data": {
      "text/plain": [
       "'2.6.0'"
      ]
     },
     "execution_count": 1,
     "metadata": {},
     "output_type": "execute_result"
    }
   ],
   "source": [
    "import keras\n",
    "keras.__version__"
   ]
  },
  {
   "cell_type": "markdown",
   "id": "d32e0d0e",
   "metadata": {},
   "source": [
    "# 5-1 합성곱 신경망\n",
    "\n",
    "## 간단한 컨브넷 만들기 "
   ]
  },
  {
   "cell_type": "code",
   "execution_count": 2,
   "id": "c502b793",
   "metadata": {},
   "outputs": [],
   "source": [
    "from keras import layers\n",
    "from keras import models\n",
    "\n",
    "model = models.Sequential()\n",
    "model.add(layers.Conv2D(32, (3, 3), activation='relu', input_shape=(28, 28, 1)))\n",
    "model.add(layers.MaxPooling2D((2, 2)))\n",
    "model.add(layers.Conv2D(64, (3, 3), activation='relu'))\n",
    "model.add(layers.MaxPooling2D((2, 2)))\n",
    "model.add(layers.Conv2D(64, (3, 3), activation='relu'))"
   ]
  },
  {
   "cell_type": "code",
   "execution_count": 3,
   "id": "a3bc1da3",
   "metadata": {},
   "outputs": [
    {
     "name": "stdout",
     "output_type": "stream",
     "text": [
      "Model: \"sequential\"\n",
      "_________________________________________________________________\n",
      "Layer (type)                 Output Shape              Param #   \n",
      "=================================================================\n",
      "conv2d (Conv2D)              (None, 26, 26, 32)        320       \n",
      "_________________________________________________________________\n",
      "max_pooling2d (MaxPooling2D) (None, 13, 13, 32)        0         \n",
      "_________________________________________________________________\n",
      "conv2d_1 (Conv2D)            (None, 11, 11, 64)        18496     \n",
      "_________________________________________________________________\n",
      "max_pooling2d_1 (MaxPooling2 (None, 5, 5, 64)          0         \n",
      "_________________________________________________________________\n",
      "conv2d_2 (Conv2D)            (None, 3, 3, 64)          36928     \n",
      "=================================================================\n",
      "Total params: 55,744\n",
      "Trainable params: 55,744\n",
      "Non-trainable params: 0\n",
      "_________________________________________________________________\n"
     ]
    }
   ],
   "source": [
    "model.summary()"
   ]
  },
  {
   "cell_type": "markdown",
   "id": "256aafb8",
   "metadata": {},
   "source": [
    "- Conv2D, MaxPooling2D 출력: (height,width,channels) 크기의 3D 텐서\n",
    "- 높이, 넓이 차원은 네트워크가 깊어질수록 작아지는 경향 \n",
    "\n",
    "## 컨브넷 위에 분류기 추가 "
   ]
  },
  {
   "cell_type": "code",
   "execution_count": 4,
   "id": "448f07f4",
   "metadata": {},
   "outputs": [],
   "source": [
    "model.add(layers.Flatten())\n",
    "model.add(layers.Dense(64, activation='relu'))\n",
    "model.add(layers.Dense(10, activation='softmax'))"
   ]
  },
  {
   "cell_type": "code",
   "execution_count": 6,
   "id": "3bc0e639",
   "metadata": {},
   "outputs": [
    {
     "name": "stdout",
     "output_type": "stream",
     "text": [
      "Model: \"sequential\"\n",
      "_________________________________________________________________\n",
      "Layer (type)                 Output Shape              Param #   \n",
      "=================================================================\n",
      "conv2d (Conv2D)              (None, 26, 26, 32)        320       \n",
      "_________________________________________________________________\n",
      "max_pooling2d (MaxPooling2D) (None, 13, 13, 32)        0         \n",
      "_________________________________________________________________\n",
      "conv2d_1 (Conv2D)            (None, 11, 11, 64)        18496     \n",
      "_________________________________________________________________\n",
      "max_pooling2d_1 (MaxPooling2 (None, 5, 5, 64)          0         \n",
      "_________________________________________________________________\n",
      "conv2d_2 (Conv2D)            (None, 3, 3, 64)          36928     \n",
      "_________________________________________________________________\n",
      "flatten (Flatten)            (None, 576)               0         \n",
      "_________________________________________________________________\n",
      "dense (Dense)                (None, 64)                36928     \n",
      "_________________________________________________________________\n",
      "dense_1 (Dense)              (None, 10)                650       \n",
      "=================================================================\n",
      "Total params: 93,322\n",
      "Trainable params: 93,322\n",
      "Non-trainable params: 0\n",
      "_________________________________________________________________\n"
     ]
    }
   ],
   "source": [
    "model.summary()"
   ]
  },
  {
   "cell_type": "code",
   "execution_count": 7,
   "id": "73b35b0b",
   "metadata": {},
   "outputs": [],
   "source": [
    "#MNIST를 이용한 컨브넷 훈련\n",
    "\n",
    "\n",
    "from keras.datasets import mnist\n",
    "from tensorflow.keras.utils import to_categorical\n",
    "\n",
    "(train_images, train_labels), (test_images, test_labels) = mnist.load_data()\n",
    "\n",
    "train_images = train_images.reshape((60000, 28, 28, 1))\n",
    "train_images = train_images.astype('float32') / 255\n",
    "\n",
    "test_images = test_images.reshape((10000, 28, 28, 1))\n",
    "test_images = test_images.astype('float32') / 255\n",
    "\n",
    "train_labels = to_categorical(train_labels)\n",
    "test_labels = to_categorical(test_labels)"
   ]
  },
  {
   "cell_type": "code",
   "execution_count": 8,
   "id": "4e7ad75f",
   "metadata": {},
   "outputs": [
    {
     "name": "stdout",
     "output_type": "stream",
     "text": [
      "Epoch 1/5\n",
      "938/938 [==============================] - 22s 22ms/step - loss: 0.1777 - accuracy: 0.9446\n",
      "Epoch 2/5\n",
      "938/938 [==============================] - 22s 23ms/step - loss: 0.0501 - accuracy: 0.9844\n",
      "Epoch 3/5\n",
      "938/938 [==============================] - 22s 23ms/step - loss: 0.0331 - accuracy: 0.9901\n",
      "Epoch 4/5\n",
      "938/938 [==============================] - 22s 23ms/step - loss: 0.0255 - accuracy: 0.9921\n",
      "Epoch 5/5\n",
      "938/938 [==============================] - 22s 23ms/step - loss: 0.0207 - accuracy: 0.9937\n"
     ]
    },
    {
     "data": {
      "text/plain": [
       "<keras.callbacks.History at 0x7f08c0c497f0>"
      ]
     },
     "execution_count": 8,
     "metadata": {},
     "output_type": "execute_result"
    }
   ],
   "source": [
    "model.compile(optimizer='rmsprop',\n",
    "              loss='categorical_crossentropy',\n",
    "              metrics=['accuracy'])\n",
    "model.fit(train_images, train_labels, epochs=5, batch_size=64)"
   ]
  },
  {
   "cell_type": "code",
   "execution_count": 9,
   "id": "0992db96",
   "metadata": {},
   "outputs": [
    {
     "name": "stdout",
     "output_type": "stream",
     "text": [
      "313/313 [==============================] - 2s 6ms/step - loss: 0.0264 - accuracy: 0.9917\n"
     ]
    }
   ],
   "source": [
    "test_loss, test_acc = model.evaluate(test_images, test_labels)"
   ]
  },
  {
   "cell_type": "code",
   "execution_count": 10,
   "id": "2e2049c0",
   "metadata": {},
   "outputs": [
    {
     "data": {
      "text/plain": [
       "0.9916999936103821"
      ]
     },
     "execution_count": 10,
     "metadata": {},
     "output_type": "execute_result"
    }
   ],
   "source": [
    "test_acc"
   ]
  },
  {
   "cell_type": "markdown",
   "id": "b776c4f0",
   "metadata": {},
   "source": [
    "## 합성곱 연산\n",
    "\n",
    "- Dense층은 입력 특성 구간에 있는 전역 패턴을 학습하지만 합성곱 층은 지역 패턴을 학습한다. \n",
    "- 컨브넷 성질\n",
    "    - 학습된 패턴은 평행이동 불변설을 가진다. \n",
    "    - 컨브넷은 패턴의 공간적 계층 구조를 학습할 수 있다. \n",
    "- 합성곱 연산은 특성맵이라곱 부르는 3D텐서에 적용\n",
    "    - 텐서는 2개의 공간축(높이와 너비)과 깊이 축(채널 축)으로 구성\n",
    "    - RGB 이미지는 3개의 컬러(빨강, 초록, 파랑)을 가지므로 깇이 축의 차원은 3이 된다. \n",
    "- 합성곱 연산은 입력 특성맵에서 작은 패치를 추출 --> 이런 모든 패치에 같은 변환을 적용해 출력 특성맵을 만든다. \n",
    "- 합성곱의 핵심적인 2개의 파라미터\n",
    "    - 입력으로부터 뽑아낼 패치의 크기: 전형적으로 3*3 또는 5*5 사용\n",
    "    - 특성 맵의 출력 깊이: 합성곱으로 계산할 필터의 수\n",
    "    \n",
    "    \n",
    "## 합성곱 스트라이드 이해\n",
    "\n",
    "- 출력 크기에 영향을 미치는 요소\n",
    "- 두 번 연속적인 윈도우 사이의 거리가 스트라이드라고 불리는 합성곱의 파라미터\n",
    "- 기본값은 1, 큰 스트라이드 합성곱도 가능\n",
    "\n",
    "\n",
    "## 최대 풀링 연산\n",
    "- MaxPooling2D 층마다 절반으로 줄어든다. 이것이 합성곱과 매우 비슷하게 강제적으로 특성 맵을 다운 샘플링하는 것이 최대 풀링의 역할\n",
    "- 최대 풀링은 입력 특성 맵에서 윈도우에 맞는 패치를 추출하고 각 채널별로 최대값을 출력\n",
    "- 합성곱과 개념적으로 비슷하지만 추출한 패치에 학습된 선형 변환(합성곱 커널)을 적용하는 대신 하드코딩된 최댓값 추출 연산을 사용\n"
   ]
  }
 ],
 "metadata": {
  "kernelspec": {
   "display_name": "Python 3",
   "language": "python",
   "name": "python3"
  },
  "language_info": {
   "codemirror_mode": {
    "name": "ipython",
    "version": 3
   },
   "file_extension": ".py",
   "mimetype": "text/x-python",
   "name": "python",
   "nbconvert_exporter": "python",
   "pygments_lexer": "ipython3",
   "version": "3.8.8"
  }
 },
 "nbformat": 4,
 "nbformat_minor": 5
}
