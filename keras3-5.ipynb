{
 "cells": [
  {
   "cell_type": "code",
   "execution_count": 1,
   "id": "e9295af9",
   "metadata": {},
   "outputs": [],
   "source": [
    "import keras"
   ]
  },
  {
   "cell_type": "markdown",
   "id": "556a7ef4",
   "metadata": {},
   "source": [
    "# 뉴스 기사 분류: 다중 분류 문제\n",
    "\n",
    "## 로이터 데이터셋\n",
    "1986년 로이터에서 공개한 짧은 기사와 토픽의 집합\n",
    "텍스트 분류에 널리 이용\n"
   ]
  },
  {
   "cell_type": "code",
   "execution_count": 2,
   "id": "20dbe9c3",
   "metadata": {},
   "outputs": [
    {
     "name": "stdout",
     "output_type": "stream",
     "text": [
      "Downloading data from https://storage.googleapis.com/tensorflow/tf-keras-datasets/reuters.npz\n",
      "2113536/2110848 [==============================] - 0s 0us/step\n",
      "2121728/2110848 [==============================] - 0s 0us/step\n"
     ]
    }
   ],
   "source": [
    "from keras.datasets import reuters\n",
    "\n",
    "(train_data, train_labels), (test_data, test_labels) = reuters.load_data(num_words=10000)"
   ]
  },
  {
   "cell_type": "code",
   "execution_count": 5,
   "id": "144fca43",
   "metadata": {},
   "outputs": [
    {
     "data": {
      "text/plain": [
       "8982"
      ]
     },
     "execution_count": 5,
     "metadata": {},
     "output_type": "execute_result"
    }
   ],
   "source": [
    "len(train_data)"
   ]
  },
  {
   "cell_type": "code",
   "execution_count": 6,
   "id": "367e2a35",
   "metadata": {},
   "outputs": [
    {
     "data": {
      "text/plain": [
       "2246"
      ]
     },
     "execution_count": 6,
     "metadata": {},
     "output_type": "execute_result"
    }
   ],
   "source": [
    "len(test_data)"
   ]
  },
  {
   "cell_type": "code",
   "execution_count": 7,
   "id": "a4937048",
   "metadata": {},
   "outputs": [
    {
     "data": {
      "text/plain": [
       "[1,\n",
       " 245,\n",
       " 273,\n",
       " 207,\n",
       " 156,\n",
       " 53,\n",
       " 74,\n",
       " 160,\n",
       " 26,\n",
       " 14,\n",
       " 46,\n",
       " 296,\n",
       " 26,\n",
       " 39,\n",
       " 74,\n",
       " 2979,\n",
       " 3554,\n",
       " 14,\n",
       " 46,\n",
       " 4689,\n",
       " 4329,\n",
       " 86,\n",
       " 61,\n",
       " 3499,\n",
       " 4795,\n",
       " 14,\n",
       " 61,\n",
       " 451,\n",
       " 4329,\n",
       " 17,\n",
       " 12]"
      ]
     },
     "execution_count": 7,
     "metadata": {},
     "output_type": "execute_result"
    }
   ],
   "source": [
    "train_data[10]"
   ]
  },
  {
   "cell_type": "code",
   "execution_count": 4,
   "id": "1d9178da",
   "metadata": {},
   "outputs": [
    {
     "name": "stdout",
     "output_type": "stream",
     "text": [
      "Downloading data from https://storage.googleapis.com/tensorflow/tf-keras-datasets/reuters_word_index.json\n",
      "557056/550378 [==============================] - 0s 0us/step\n",
      "565248/550378 [==============================] - 0s 0us/step\n"
     ]
    }
   ],
   "source": [
    "\n",
    "\n",
    "word_index = reuters.get_word_index()\n",
    "reverse_word_index = dict([(value, key) for (key, value) in word_index.items()])\n",
    "# 0, 1, 2는 '패딩', '문서 시작', '사전에 없음'을 위한 인덱스이므로 3을 뺍니다\n",
    "decoded_newswire = ' '.join([reverse_word_index.get(i - 3, '?') for i in train_data[0]])\n",
    "\n"
   ]
  },
  {
   "cell_type": "code",
   "execution_count": 8,
   "id": "2f66925d",
   "metadata": {},
   "outputs": [
    {
     "data": {
      "text/plain": [
       "'? ? ? said as a result of its december acquisition of space co it expects earnings per share in 1987 of 1 15 to 1 30 dlrs per share up from 70 cts in 1986 the company said pretax net should rise to nine to 10 mln dlrs from six mln dlrs in 1986 and rental operation revenues to 19 to 22 mln dlrs from 12 5 mln dlrs it said cash flow per share this year should be 2 50 to three dlrs reuter 3'"
      ]
     },
     "execution_count": 8,
     "metadata": {},
     "output_type": "execute_result"
    }
   ],
   "source": [
    "decoded_newswire"
   ]
  },
  {
   "cell_type": "markdown",
   "id": "f552067a",
   "metadata": {},
   "source": [
    "## 데이터 준비\n",
    "### 레이블을 벡터로 바꾸는 방법\n",
    "    1. 리스트 --> 정수 텐서로 변환 2. 원-핫 인코딩"
   ]
  },
  {
   "cell_type": "code",
   "execution_count": 10,
   "id": "36b651f3",
   "metadata": {},
   "outputs": [],
   "source": [
    "import numpy as np\n",
    "\n",
    "def vectorize_sequences(sequences, dimension=10000):\n",
    "    results = np.zeros((len(sequences), dimension))\n",
    "    for i, sequence in enumerate(sequences):\n",
    "        results[i, sequence] = 1.\n",
    "    return results\n",
    "\n",
    "# 훈련 데이터 벡터 변환\n",
    "x_train = vectorize_sequences(train_data)\n",
    "# 테스트 데이터 벡터 변환\n",
    "x_test = vectorize_sequences(test_data)"
   ]
  },
  {
   "cell_type": "code",
   "execution_count": 11,
   "id": "3e8e976c",
   "metadata": {},
   "outputs": [],
   "source": [
    "def to_one_hot(labels, dimension=46):\n",
    "    results = np.zeros((len(labels), dimension))\n",
    "    for i, label in enumerate(labels):\n",
    "        results[i, label] = 1.\n",
    "    return results\n",
    "\n",
    "# 훈련 레이블 벡터 변환\n",
    "one_hot_train_labels = to_one_hot(train_labels)\n",
    "# 테스트 레이블 벡터 변환\n",
    "one_hot_test_labels = to_one_hot(test_labels)"
   ]
  },
  {
   "cell_type": "code",
   "execution_count": 12,
   "id": "91d8b81a",
   "metadata": {},
   "outputs": [],
   "source": [
    "\n",
    "\n",
    "from keras.utils.np_utils import to_categorical\n",
    "\n",
    "one_hot_train_labels = to_categorical(train_labels)\n",
    "one_hot_test_labels = to_categorical(test_labels)\n",
    "\n"
   ]
  },
  {
   "cell_type": "markdown",
   "id": "211fa605",
   "metadata": {},
   "source": [
    "## 모델 구성\n",
    "### 출력공간 차원이 커짐: 클래스 개수 2-->46\n",
    "\n",
    "Dense 층을 쌓으면 각 층은 이전 층의 출력에서 제공한 정보만 사용할 수 있음. \n",
    "한 층이 분류 문제에 필요한 정보를 누락하면 그 다음 층에서 복원 불가.\n",
    "16차원 공간이 46개 클라스 구분하기엔 제약이 커 규모를 늘리자. "
   ]
  },
  {
   "cell_type": "code",
   "execution_count": 13,
   "id": "cb9bdd9a",
   "metadata": {},
   "outputs": [],
   "source": [
    "from keras import models\n",
    "from keras import layers\n",
    "\n",
    "model = models.Sequential()\n",
    "model.add(layers.Dense(64, activation='relu', input_shape=(10000,)))\n",
    "model.add(layers.Dense(64, activation='relu'))\n",
    "model.add(layers.Dense(46, activation='softmax'))"
   ]
  },
  {
   "cell_type": "markdown",
   "id": "0d57978d",
   "metadata": {},
   "source": [
    "- 마지막 Dense 층 크기 : 46 --> 각 입력 샘플에 대해 46차원 벡터 출력 \n",
    "- 마지막 층에 softmax 활성함수 --> output[i]는 어떤 샘플이 클래스 i에 속할 확률(46개읭 값을 모두 더하면 1)'\n",
    "\n",
    "--> 최선의 손실함수는 categorial_crossentropy\n",
    ": 두 확률 분포 사이의 거리를 최소화하여 진짜 레이블에 가까운 출력을 내도록 모델을 훈련"
   ]
  },
  {
   "cell_type": "code",
   "execution_count": 14,
   "id": "20ccde1f",
   "metadata": {},
   "outputs": [],
   "source": [
    "model.compile(optimizer='rmsprop',\n",
    "              loss='categorical_crossentropy',\n",
    "              metrics=['accuracy'])"
   ]
  },
  {
   "cell_type": "markdown",
   "id": "f2f99c4f",
   "metadata": {},
   "source": [
    "## 훈련검증\n",
    "훈련 데이터 1000개에사 샘플을 떼어 검증"
   ]
  },
  {
   "cell_type": "code",
   "execution_count": 15,
   "id": "ee3f49ec",
   "metadata": {},
   "outputs": [],
   "source": [
    "\n",
    "\n",
    "x_val = x_train[:1000]\n",
    "partial_x_train = x_train[1000:]\n",
    "\n",
    "y_val = one_hot_train_labels[:1000]\n",
    "partial_y_train = one_hot_train_labels[1000:]\n",
    "\n"
   ]
  },
  {
   "cell_type": "code",
   "execution_count": 16,
   "id": "e0d9932c",
   "metadata": {},
   "outputs": [
    {
     "name": "stdout",
     "output_type": "stream",
     "text": [
      "Epoch 1/20\n",
      "16/16 [==============================] - 1s 34ms/step - loss: 2.6077 - accuracy: 0.5134 - val_loss: 1.7437 - val_accuracy: 0.6330\n",
      "Epoch 2/20\n",
      "16/16 [==============================] - 0s 24ms/step - loss: 1.4139 - accuracy: 0.7063 - val_loss: 1.3007 - val_accuracy: 0.7150\n",
      "Epoch 3/20\n",
      "16/16 [==============================] - 0s 25ms/step - loss: 1.0495 - accuracy: 0.7717 - val_loss: 1.1324 - val_accuracy: 0.7610\n",
      "Epoch 4/20\n",
      "16/16 [==============================] - 0s 24ms/step - loss: 0.8314 - accuracy: 0.8225 - val_loss: 1.0381 - val_accuracy: 0.7760\n",
      "Epoch 5/20\n",
      "16/16 [==============================] - 0s 24ms/step - loss: 0.6643 - accuracy: 0.8616 - val_loss: 0.9692 - val_accuracy: 0.7960\n",
      "Epoch 6/20\n",
      "16/16 [==============================] - 0s 24ms/step - loss: 0.5326 - accuracy: 0.8894 - val_loss: 0.9393 - val_accuracy: 0.8040\n",
      "Epoch 7/20\n",
      "16/16 [==============================] - 0s 24ms/step - loss: 0.4292 - accuracy: 0.9098 - val_loss: 0.8965 - val_accuracy: 0.8160\n",
      "Epoch 8/20\n",
      "16/16 [==============================] - 0s 23ms/step - loss: 0.3554 - accuracy: 0.9243 - val_loss: 0.9196 - val_accuracy: 0.7980\n",
      "Epoch 9/20\n",
      "16/16 [==============================] - 0s 25ms/step - loss: 0.2899 - accuracy: 0.9345 - val_loss: 0.8835 - val_accuracy: 0.8160\n",
      "Epoch 10/20\n",
      "16/16 [==============================] - 0s 23ms/step - loss: 0.2508 - accuracy: 0.9416 - val_loss: 0.9173 - val_accuracy: 0.8100\n",
      "Epoch 11/20\n",
      "16/16 [==============================] - 0s 25ms/step - loss: 0.2104 - accuracy: 0.9479 - val_loss: 0.9135 - val_accuracy: 0.8160\n",
      "Epoch 12/20\n",
      "16/16 [==============================] - 0s 27ms/step - loss: 0.1865 - accuracy: 0.9513 - val_loss: 0.9938 - val_accuracy: 0.8100\n",
      "Epoch 13/20\n",
      "16/16 [==============================] - 0s 24ms/step - loss: 0.1688 - accuracy: 0.9534 - val_loss: 0.9493 - val_accuracy: 0.8110\n",
      "Epoch 14/20\n",
      "16/16 [==============================] - 0s 23ms/step - loss: 0.1514 - accuracy: 0.9545 - val_loss: 0.9908 - val_accuracy: 0.8060\n",
      "Epoch 15/20\n",
      "16/16 [==============================] - 0s 24ms/step - loss: 0.1437 - accuracy: 0.9558 - val_loss: 1.0093 - val_accuracy: 0.8100\n",
      "Epoch 16/20\n",
      "16/16 [==============================] - 0s 25ms/step - loss: 0.1286 - accuracy: 0.9570 - val_loss: 1.0195 - val_accuracy: 0.8040\n",
      "Epoch 17/20\n",
      "16/16 [==============================] - 0s 24ms/step - loss: 0.1258 - accuracy: 0.9562 - val_loss: 1.0363 - val_accuracy: 0.8130\n",
      "Epoch 18/20\n",
      "16/16 [==============================] - 0s 25ms/step - loss: 0.1228 - accuracy: 0.9568 - val_loss: 1.0442 - val_accuracy: 0.8040\n",
      "Epoch 19/20\n",
      "16/16 [==============================] - 0s 25ms/step - loss: 0.1182 - accuracy: 0.9551 - val_loss: 1.0631 - val_accuracy: 0.8120\n",
      "Epoch 20/20\n",
      "16/16 [==============================] - 0s 23ms/step - loss: 0.1120 - accuracy: 0.9578 - val_loss: 1.1478 - val_accuracy: 0.7950\n"
     ]
    }
   ],
   "source": [
    "history = model.fit(partial_x_train,\n",
    "                    partial_y_train,\n",
    "                    epochs=20,\n",
    "                    batch_size=512,\n",
    "                    validation_data=(x_val, y_val))"
   ]
  },
  {
   "cell_type": "code",
   "execution_count": 17,
   "id": "95604e46",
   "metadata": {},
   "outputs": [],
   "source": [
    "\n",
    "\n",
    "import matplotlib.pyplot as plt\n",
    "\n"
   ]
  },
  {
   "cell_type": "code",
   "execution_count": 18,
   "id": "7023ab26",
   "metadata": {
    "scrolled": false
   },
   "outputs": [
    {
     "data": {
      "image/png": "[encoded data removed]",
      "text/plain": [
       "<Figure size 432x288 with 1 Axes>"
      ]
     },
     "metadata": {
      "needs_background": "light"
     },
     "output_type": "display_data"
    }
   ],
   "source": [
    "\n",
    "\n",
    "loss = history.history['loss']\n",
    "val_loss = history.history['val_loss']\n",
    "\n",
    "epochs = range(1, len(loss) + 1)\n",
    "\n",
    "plt.plot(epochs, loss, 'bo', label='Training loss')\n",
    "plt.plot(epochs, val_loss, 'b', label='Validation loss')\n",
    "plt.title('Training and validation loss')\n",
    "plt.xlabel('Epochs')\n",
    "plt.ylabel('Loss')\n",
    "plt.legend()\n",
    "\n",
    "plt.show()\n",
    "\n"
   ]
  },
  {
   "cell_type": "code",
   "execution_count": 20,
   "id": "1d76c3f1",
   "metadata": {},
   "outputs": [
    {
     "name": "stdout",
     "output_type": "stream",
     "text": [
      "Epoch 1/9\n",
      "16/16 [==============================] - 1s 31ms/step - loss: 2.6570 - accuracy: 0.5273 - val_loss: 1.7586 - val_accuracy: 0.6530\n",
      "Epoch 2/9\n",
      "16/16 [==============================] - 0s 23ms/step - loss: 1.4139 - accuracy: 0.7105 - val_loss: 1.2969 - val_accuracy: 0.7160\n",
      "Epoch 3/9\n",
      "16/16 [==============================] - 0s 24ms/step - loss: 1.0304 - accuracy: 0.7855 - val_loss: 1.1376 - val_accuracy: 0.7640\n",
      "Epoch 4/9\n",
      "16/16 [==============================] - 0s 24ms/step - loss: 0.8084 - accuracy: 0.8360 - val_loss: 1.0305 - val_accuracy: 0.7920\n",
      "Epoch 5/9\n",
      "16/16 [==============================] - 0s 25ms/step - loss: 0.6423 - accuracy: 0.8700 - val_loss: 0.9941 - val_accuracy: 0.8060\n",
      "Epoch 6/9\n",
      "16/16 [==============================] - 0s 24ms/step - loss: 0.5107 - accuracy: 0.8974 - val_loss: 0.9369 - val_accuracy: 0.8140\n",
      "Epoch 7/9\n",
      "16/16 [==============================] - 0s 23ms/step - loss: 0.4091 - accuracy: 0.9171 - val_loss: 0.9231 - val_accuracy: 0.8130\n",
      "Epoch 8/9\n",
      "16/16 [==============================] - 0s 24ms/step - loss: 0.3327 - accuracy: 0.9305 - val_loss: 0.8921 - val_accuracy: 0.8250\n",
      "Epoch 9/9\n",
      "16/16 [==============================] - 0s 22ms/step - loss: 0.2731 - accuracy: 0.9420 - val_loss: 0.9061 - val_accuracy: 0.8190\n",
      "71/71 [==============================] - 0s 3ms/step - loss: 1.0052 - accuracy: 0.7858\n"
     ]
    }
   ],
   "source": [
    "##9이상부터 과대적합이 일어남\n",
    "\n",
    "model = models.Sequential()\n",
    "model.add(layers.Dense(64, activation='relu', input_shape=(10000,)))\n",
    "model.add(layers.Dense(64, activation='relu'))\n",
    "model.add(layers.Dense(46, activation='softmax'))\n",
    "\n",
    "model.compile(optimizer='rmsprop',\n",
    "              loss='categorical_crossentropy',\n",
    "              metrics=['accuracy'])\n",
    "model.fit(partial_x_train,\n",
    "          partial_y_train,\n",
    "          epochs=9,\n",
    "          batch_size=512,\n",
    "          validation_data=(x_val, y_val))\n",
    "results = model.evaluate(x_test, one_hot_test_labels)\n",
    "\n"
   ]
  },
  {
   "cell_type": "code",
   "execution_count": 21,
   "id": "9550e97d",
   "metadata": {},
   "outputs": [
    {
     "data": {
      "text/plain": [
       "[1.0051789283752441, 0.7858415246009827]"
      ]
     },
     "execution_count": 21,
     "metadata": {},
     "output_type": "execute_result"
    }
   ],
   "source": [
    "results"
   ]
  },
  {
   "cell_type": "markdown",
   "id": "4a7b9c4f",
   "metadata": {},
   "source": [
    "정확도 78%(랜덤 분류: 19%)"
   ]
  },
  {
   "cell_type": "code",
   "execution_count": 22,
   "id": "9113174c",
   "metadata": {},
   "outputs": [
    {
     "data": {
      "text/plain": [
       "0.17275155832591274"
      ]
     },
     "execution_count": 22,
     "metadata": {},
     "output_type": "execute_result"
    }
   ],
   "source": [
    "import copy\n",
    "\n",
    "test_labels_copy = copy.copy(test_labels)\n",
    "np.random.shuffle(test_labels_copy)\n",
    "float(np.sum(np.array(test_labels) == np.array(test_labels_copy))) / len(test_labels)"
   ]
  },
  {
   "cell_type": "markdown",
   "id": "b88a95fd",
   "metadata": {},
   "source": [
    "# 새로운 데이터 예측하기\n",
    "\n",
    "모델 인스턴스의 predict 메서드는 46개 토픽에 대한 확률 분포를 반환"
   ]
  },
  {
   "cell_type": "code",
   "execution_count": 23,
   "id": "e5e7821b",
   "metadata": {},
   "outputs": [],
   "source": [
    "predictions = model.predict(x_test)"
   ]
  },
  {
   "cell_type": "code",
   "execution_count": 24,
   "id": "0fcfbb27",
   "metadata": {},
   "outputs": [
    {
     "data": {
      "text/plain": [
       "(46,)"
      ]
     },
     "execution_count": 24,
     "metadata": {},
     "output_type": "execute_result"
    }
   ],
   "source": [
    "predictions[0].shape"
   ]
  },
  {
   "cell_type": "code",
   "execution_count": 25,
   "id": "b0c5369e",
   "metadata": {},
   "outputs": [
    {
     "data": {
      "text/plain": [
       "3"
      ]
     },
     "execution_count": 25,
     "metadata": {},
     "output_type": "execute_result"
    }
   ],
   "source": [
    "np.argmax(predictions[0])"
   ]
  },
  {
   "cell_type": "markdown",
   "id": "21bcb892",
   "metadata": {},
   "source": [
    "가장 큰 값 --> 예측클래스 (가장 확률 높은 클래스)"
   ]
  },
  {
   "cell_type": "markdown",
   "id": "4a4136a8",
   "metadata": {},
   "source": [
    "# 레이블과 손실을 다루는 다른 방법\n",
    "\n",
    "다른 방법으로 정수텐서 변환하기\n",
    "- 손실함수만 바꾸면 된다. sparse_categorical_crossentropy"
   ]
  },
  {
   "cell_type": "code",
   "execution_count": 26,
   "id": "32c44ff5",
   "metadata": {},
   "outputs": [],
   "source": [
    "y_train = np.array(train_labels)\n",
    "y_test = np.array(test_labels)"
   ]
  },
  {
   "cell_type": "code",
   "execution_count": 27,
   "id": "35ff4cbb",
   "metadata": {},
   "outputs": [],
   "source": [
    "model.compile(optimizer='rmsprop', loss='sparse_categorical_crossentropy', metrics=['acc'])"
   ]
  },
  {
   "cell_type": "markdown",
   "id": "b830b0fd",
   "metadata": {},
   "source": [
    "인터페이스만 다를 뿐 categorical_crossentropy와 동일\n",
    "\n",
    "## 충분히 큰 중간층을 두어야 하는 이유\n",
    "\n",
    "마지막 출력이 46차원이기 때문에 중간층의 히든유닛 46개 보다 많이 적어서는 안된다. (병목현상 위험)"
   ]
  },
  {
   "cell_type": "code",
   "execution_count": 28,
   "id": "3d8f94e7",
   "metadata": {
    "scrolled": true
   },
   "outputs": [
    {
     "name": "stdout",
     "output_type": "stream",
     "text": [
      "Epoch 1/20\n",
      "63/63 [==============================] - 1s 13ms/step - loss: 3.2601 - accuracy: 0.2096 - val_loss: 2.6822 - val_accuracy: 0.3800\n",
      "Epoch 2/20\n",
      "63/63 [==============================] - 1s 10ms/step - loss: 2.2293 - accuracy: 0.3905 - val_loss: 1.9988 - val_accuracy: 0.3940\n",
      "Epoch 3/20\n",
      "63/63 [==============================] - 1s 11ms/step - loss: 1.7274 - accuracy: 0.4589 - val_loss: 1.6650 - val_accuracy: 0.5580\n",
      "Epoch 4/20\n",
      "63/63 [==============================] - 1s 10ms/step - loss: 1.4041 - accuracy: 0.6585 - val_loss: 1.4687 - val_accuracy: 0.6580\n",
      "Epoch 5/20\n",
      "63/63 [==============================] - 1s 10ms/step - loss: 1.2254 - accuracy: 0.6809 - val_loss: 1.3978 - val_accuracy: 0.6580\n",
      "Epoch 6/20\n",
      "63/63 [==============================] - 1s 10ms/step - loss: 1.1198 - accuracy: 0.6921 - val_loss: 1.3872 - val_accuracy: 0.6560\n",
      "Epoch 7/20\n",
      "63/63 [==============================] - 1s 10ms/step - loss: 1.0462 - accuracy: 0.7012 - val_loss: 1.3794 - val_accuracy: 0.6580\n",
      "Epoch 8/20\n",
      "63/63 [==============================] - 1s 11ms/step - loss: 0.9852 - accuracy: 0.7122 - val_loss: 1.4277 - val_accuracy: 0.6700\n",
      "Epoch 9/20\n",
      "63/63 [==============================] - 1s 11ms/step - loss: 0.9333 - accuracy: 0.7328 - val_loss: 1.4302 - val_accuracy: 0.6760\n",
      "Epoch 10/20\n",
      "63/63 [==============================] - 1s 11ms/step - loss: 0.8883 - accuracy: 0.7508 - val_loss: 1.4318 - val_accuracy: 0.6800\n",
      "Epoch 11/20\n",
      "63/63 [==============================] - 1s 11ms/step - loss: 0.8476 - accuracy: 0.7620 - val_loss: 1.4844 - val_accuracy: 0.6850\n",
      "Epoch 12/20\n",
      "63/63 [==============================] - 1s 11ms/step - loss: 0.8140 - accuracy: 0.7671 - val_loss: 1.5641 - val_accuracy: 0.6770\n",
      "Epoch 13/20\n",
      "63/63 [==============================] - 1s 11ms/step - loss: 0.7826 - accuracy: 0.7757 - val_loss: 1.5581 - val_accuracy: 0.6780\n",
      "Epoch 14/20\n",
      "63/63 [==============================] - 1s 11ms/step - loss: 0.7544 - accuracy: 0.7828 - val_loss: 1.6020 - val_accuracy: 0.6770\n",
      "Epoch 15/20\n",
      "63/63 [==============================] - 1s 11ms/step - loss: 0.7259 - accuracy: 0.7905 - val_loss: 1.6556 - val_accuracy: 0.6800\n",
      "Epoch 16/20\n",
      "63/63 [==============================] - 1s 10ms/step - loss: 0.7043 - accuracy: 0.7979 - val_loss: 1.6836 - val_accuracy: 0.6810\n",
      "Epoch 17/20\n",
      "63/63 [==============================] - 1s 11ms/step - loss: 0.6829 - accuracy: 0.8084 - val_loss: 1.7685 - val_accuracy: 0.6910\n",
      "Epoch 18/20\n",
      "63/63 [==============================] - 1s 10ms/step - loss: 0.6658 - accuracy: 0.8142 - val_loss: 1.7753 - val_accuracy: 0.6920\n",
      "Epoch 19/20\n",
      "63/63 [==============================] - 1s 10ms/step - loss: 0.6454 - accuracy: 0.8142 - val_loss: 1.8644 - val_accuracy: 0.6930\n",
      "Epoch 20/20\n",
      "63/63 [==============================] - 1s 11ms/step - loss: 0.6313 - accuracy: 0.8167 - val_loss: 1.9656 - val_accuracy: 0.6740\n"
     ]
    },
    {
     "data": {
      "text/plain": [
       "<keras.callbacks.History at 0x7fd82a58a430>"
      ]
     },
     "execution_count": 28,
     "metadata": {},
     "output_type": "execute_result"
    }
   ],
   "source": [
    "model = models.Sequential()\n",
    "model.add(layers.Dense(64, activation='relu', input_shape=(10000,)))\n",
    "model.add(layers.Dense(4, activation='relu'))\n",
    "model.add(layers.Dense(46, activation='softmax'))\n",
    "\n",
    "model.compile(optimizer='rmsprop',\n",
    "              loss='categorical_crossentropy',\n",
    "              metrics=['accuracy'])\n",
    "model.fit(partial_x_train,\n",
    "          partial_y_train,\n",
    "          epochs=20,\n",
    "          batch_size=128,\n",
    "          validation_data=(x_val, y_val))"
   ]
  },
  {
   "cell_type": "markdown",
   "id": "fefe3ea0",
   "metadata": {},
   "source": [
    "# 정리\n",
    "\n",
    "- N개의 클래스로 데이터 포인트를 분류하려면 네트워크 마지막 Dense층의 크기는 N\n",
    "- 단일 레이블, 다중 분류 문제에서는 Nㅐ의 클래스에 대한 확률 분포를 출력하기 위해 softmax활성화 함수 이용\n",
    "- 범주형 크로스엔트로피 : 모델이 출력한 확률 분포와 타깃 분포사이의 거리를 최소화\n",
    "- 다중 분류 레이블 다루는 방법\n",
    "    - 원-핫 인코딩 : categorical_crossentropy 손실 함수를 사용\n",
    "    - 레이블 --> 정수로 인코딩 : sparse_categorical_crossentropy 손실 함수를 사용\n",
    "- 많은 수의 범주를 분류 시 중간층읰 크기가 너무 작아 네트워크에 정보의 병목이 생기지 않도록 주의!\n"
   ]
  }
 ],
 "metadata": {
  "kernelspec": {
   "display_name": "Python 3",
   "language": "python",
   "name": "python3"
  },
  "language_info": {
   "codemirror_mode": {
    "name": "ipython",
    "version": 3
   },
   "file_extension": ".py",
   "mimetype": "text/x-python",
   "name": "python",
   "nbconvert_exporter": "python",
   "pygments_lexer": "ipython3",
   "version": "3.8.8"
  }
 },
 "nbformat": 4,
 "nbformat_minor": 5
}
